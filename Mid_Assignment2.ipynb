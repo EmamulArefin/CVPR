{
  "nbformat": 4,
  "nbformat_minor": 0,
  "metadata": {
    "colab": {
      "provenance": []
    },
    "kernelspec": {
      "name": "python3",
      "display_name": "Python 3"
    },
    "language_info": {
      "name": "python"
    }
  },
  "cells": [
    {
      "cell_type": "code",
      "execution_count": 29,
      "metadata": {
        "id": "bd2oHw8s-0k_"
      },
      "outputs": [],
      "source": [
        "import pandas as pd\n",
        "import numpy as np\n",
        "import matplotlib.pyplot as plt\n"
      ]
    },
    {
      "cell_type": "code",
      "source": [
        "df =pd.read_csv('/content/drive/MyDrive/dataFile/synthetic_dataset.csv')\n",
        "print(df)"
      ],
      "metadata": {
        "id": "36kx3eRuBbGv",
        "colab": {
          "base_uri": "https://localhost:8080/"
        },
        "outputId": "128b114d-ab5e-4687-a664-77a91bb0038b"
      },
      "execution_count": 30,
      "outputs": [
        {
          "output_type": "stream",
          "name": "stdout",
          "text": [
            "     feature1  feature2  feature3  feature4  target\n",
            "0    1.248357  2.357787  2.074098  1.279545       1\n",
            "1    0.930868  2.560785  1.367035  2.590535       0\n",
            "2    1.323844  3.083051  0.281877  1.403255       3\n",
            "3    1.761515  3.053802  4.323612  1.327312       1\n",
            "4    0.882923  0.622331  4.064505  1.328532       0\n",
            "..        ...       ...       ...       ...     ...\n",
            "195  1.192659  1.530824  0.906165  1.974862       2\n",
            "196  0.558071  0.286865  0.332481  2.789104       2\n",
            "197  1.076863  3.353872  3.705603  2.599711       0\n",
            "198  1.029104  1.885460  2.872366  1.850427       1\n",
            "199  0.428515  3.237816  4.209144  1.044939       2\n",
            "\n",
            "[200 rows x 5 columns]\n"
          ]
        }
      ]
    },
    {
      "cell_type": "code",
      "source": [
        "features = ['feature1','feature2','feature3','feature4']\n",
        "X = df[features]\n",
        "Y = df['target'].values.reshape(-1,1)"
      ],
      "metadata": {
        "id": "toA6Qkhr0XB6"
      },
      "execution_count": 31,
      "outputs": []
    },
    {
      "cell_type": "code",
      "source": [
        "class NeuralNetwork(object):\n",
        "    def __init__(self):\n",
        "        inputLayerNeurons = 4\n",
        "        hiddenLayer1Neurons = 10\n",
        "        hiddenLayer2Neurons = 8\n",
        "        outLayerNeurons = 1\n",
        "\n",
        "        self.learning_rate = 0.2\n",
        "        self.W_HI = np.random.randn(inputLayerNeurons, hiddenLayer1Neurons)\n",
        "        self.W_HI1 = np.random.randn(hiddenLayer1Neurons, hiddenLayer2Neurons)\n",
        "        self.W_OH = np.random.randn(hiddenLayer2Neurons, outLayerNeurons)\n",
        "\n",
        "    def sigmoid(self, x, der=False):\n",
        "        if der:\n",
        "            return x * (1 - x)\n",
        "        else:\n",
        "            return 1 / (1 + np.exp(-x))\n",
        "\n",
        "    def feedForward(self, X):\n",
        "        self.input = X\n",
        "        self.hidden_input = np.dot(X, self.W_HI)\n",
        "        self.hidden_output = self.sigmoid(self.hidden_input)\n",
        "\n",
        "        self.hidden_input1 = np.dot(self.hidden_output, self.W_HI1)\n",
        "        self.hidden_output1 = self.sigmoid(self.hidden_input1)\n",
        "\n",
        "        self.output_input = np.dot(self.hidden_output1, self.W_OH)\n",
        "        self.pred = self.sigmoid(self.output_input)\n",
        "        return self.pred\n",
        "\n",
        "    def backPropagation(self, Y):\n",
        "        # Output layer error\n",
        "        output_error = Y - self.pred\n",
        "        output_delta = output_error * self.sigmoid(self.pred, der=True)\n",
        "\n",
        "        # Hidden Layer 2 error\n",
        "        hidden_error1 = output_delta.dot(self.W_OH.T)\n",
        "        hidden_delta1 = hidden_error1 * self.sigmoid(self.hidden_output1, der=True)\n",
        "\n",
        "        # Hidden Layer 1 error\n",
        "        hidden_error0 = hidden_delta1.dot(self.W_HI1.T)\n",
        "        hidden_delta0 = hidden_error0 * self.sigmoid(self.hidden_output, der=True)\n",
        "\n",
        "        # Update weights\n",
        "        self.W_OH += self.hidden_output1.T.dot(output_delta) * self.learning_rate\n",
        "        self.W_HI1 += self.hidden_output.T.dot(hidden_delta1) * self.learning_rate\n",
        "        self.W_HI += self.input.T.dot(hidden_delta0) * self.learning_rate\n",
        "\n",
        "    def train(self, X, Y):\n",
        "        self.feedForward(X)\n",
        "        self.backPropagation(Y)\n"
      ],
      "metadata": {
        "id": "lDT7FPWv1R-N"
      },
      "execution_count": 32,
      "outputs": []
    },
    {
      "cell_type": "code",
      "source": [
        "NN = NeuralNetwork()\n",
        "err = []\n",
        "\n",
        "for i in range(10000):\n",
        "    NN.train(X, Y)\n",
        "    err.append(np.mean(np.square(Y - NN.feedForward(X))))\n",
        "\n",
        "plt.plot(err)"
      ],
      "metadata": {
        "colab": {
          "base_uri": "https://localhost:8080/",
          "height": 463
        },
        "id": "D22GfoKi4BGi",
        "outputId": "02f94252-412b-4958-ac91-690e0d744adb"
      },
      "execution_count": 34,
      "outputs": [
        {
          "output_type": "execute_result",
          "data": {
            "text/plain": [
              "[<matplotlib.lines.Line2D at 0x793e9eb55110>]"
            ]
          },
          "metadata": {},
          "execution_count": 34
        },
        {
          "output_type": "display_data",
          "data": {
            "text/plain": [
              "<Figure size 640x480 with 1 Axes>"
            ],
            "image/png": "[encoded data removed]"
          },
          "metadata": {}
        }
      ]
    },
    {
      "cell_type": "markdown",
      "source": [
        "# New Section"
      ],
      "metadata": {
        "id": "75g9c75eBTIN"
      }
    }
  ]
}